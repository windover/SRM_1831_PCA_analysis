{
 "cells": [
  {
   "cell_type": "markdown",
   "metadata": {},
   "source": [
    "# PCA analysis of SRM 1831 results\n",
    "\n",
    "* Data collected 8/7/2019 using Bruker M4\n",
    "* Rh Mono-capillary, 50 kV, 100 uA, Vacuum, No filter, 300s Live time"
   ]
  },
  {
   "cell_type": "markdown",
   "metadata": {},
   "source": [
    "* loading standard `Python` packages and \n",
    "enabling plotting"
   ]
  },
  {
   "cell_type": "code",
   "execution_count": 1,
   "metadata": {},
   "outputs": [],
   "source": [
    "import matplotlib\n",
    "import numpy as np\n",
    "import pandas as pd\n",
    "import matplotlib.pyplot as plt\n",
    "#from matplotlib.patches import Ellipse\n",
    "%matplotlib inline  "
   ]
  },
  {
   "cell_type": "markdown",
   "metadata": {},
   "source": [
    "* loading PCA packages from sci-kit learn..."
   ]
  },
  {
   "cell_type": "code",
   "execution_count": 2,
   "metadata": {},
   "outputs": [],
   "source": [
    "import sklearn as skl\n",
    "from sklearn.cross_decomposition import PLSRegression\n",
    "from sklearn.decomposition import PCA\n",
    "from sklearn.preprocessing import StandardScaler, scale "
   ]
  },
  {
   "cell_type": "markdown",
   "metadata": {},
   "source": [
    "* include scipy stats package for kurtosis and skew\n",
    "* include HyperSpy for peak fitting\n",
    "* include custom Spectrum_Evaulation toolbox"
   ]
  },
  {
   "cell_type": "code",
   "execution_count": 3,
   "metadata": {},
   "outputs": [
    {
     "name": "stderr",
     "output_type": "stream",
     "text": [
      "WARNING:hyperspy_gui_traitsui:The module://ipykernel.pylab.backend_inline matplotlib backend is not compatible with the traitsui GUI elements. For more information, read http://hyperspy.readthedocs.io/en/stable/user_guide/getting_started.html#possible-warnings-when-importing-hyperspy.\n",
      "WARNING:hyperspy_gui_traitsui:The traitsui GUI elements are not available.\n"
     ]
    }
   ],
   "source": [
    "import scipy as sp\n",
    "import hyperspy.api as hs\n",
    "import spectrum_evaluation as se"
   ]
  },
  {
   "cell_type": "markdown",
   "metadata": {},
   "source": [
    "* list file names for import \n",
    "* pulling in files from M4 analysis / text file saves\n",
    "* opening files directly using `HyperSpy` to calculate regions of interest"
   ]
  },
  {
   "cell_type": "code",
   "execution_count": 4,
   "metadata": {},
   "outputs": [],
   "source": [
    "# M4 software results\n",
    "M4_results_directory =  './M4_refinements/'\n",
    "M4_results_list_name = ['SRM_1831_D1_300s_100pts_300c_M4_ROI_sum_20200706.txt',\n",
    "                        'SRM_1831_D1_300s_20x20_300c_M4_ROI_sum_20200706.txt',\n",
    "                        'SRM_1831_D2_300s_100pts_300c_M4_ROI_sum_20200706.txt',\n",
    "                        'SRM_1831_D2_300s_20x20_300c_M4_ROI_sum_20200706.txt']\n",
    "#\n",
    "M4_results_full_name = ['SRM_1831_D1_300s_100pts_300c_M4_ROI_sum_full_20200720.txt',\n",
    "                        'SRM_1831_D1_300s_20x20_300c_M4_ROI_sum_full_20200720.txt',\n",
    "                        'SRM_1831_D2_300s_100pts_300c_M4_ROI_sum_full_20200720.txt',\n",
    "                        'SRM_1831_D2_300s_20x20_300c_M4_ROI_sum_full_20200720.txt', \n",
    "                        'SRM_1831_wafer_500s_400pts_300c_M4_ROI_sum_full_20200717.txt']\n",
    "#\n",
    "M4_results_select_name = ['SRM_1831_D1_300s_100pts_300c_M4_ROI_sum_select_20200720.txt',\n",
    "                        'SRM_1831_D1_300s_20x20_300c_M4_ROI_sum_select_20200720.txt',\n",
    "                        'SRM_1831_D2_300s_100pts_300c_M4_ROI_sum_select_20200720.txt',\n",
    "                        'SRM_1831_D2_300s_20x20_300c_M4_ROI_sum_select_20200720.txt', \n",
    "                        'SRM_1831_wafer_500s_400pts_300c_M4_ROI_sum_select_20200717.txt']\n",
    "# HypserSpy calculated\n",
    "directory = [r'./M4_measurements/SRM_1831_300s_100/',\n",
    "             r'./M4_measurements/SRM_1831_300s_20x20/', \n",
    "             r'./M4_measurements/SRM_1831_wafer/']\n",
    "#\n",
    "file_prefix = ['SRM_1831_300s_100pts_300c_',\n",
    "               'SRM_1831_300s_20x20_300c_',\n",
    "               'SRM_1831_wafer_500s_400pts_300c_']"
   ]
  },
  {
   "cell_type": "markdown",
   "metadata": {},
   "source": [
    "* file read of M4 results into a list of Pandas DataFrames\n",
    "* this will read a list of M4 results files (M4_results_list_name) from a directory (M4_results_directory)"
   ]
  },
  {
   "cell_type": "code",
   "execution_count": 75,
   "metadata": {
    "scrolled": false
   },
   "outputs": [
    {
     "name": "stderr",
     "output_type": "stream",
     "text": [
      "H:\\anaconda3\\envs\\HyperSpy\\lib\\site-packages\\ipykernel_launcher.py:3: ParserWarning: Falling back to the 'python' engine because the 'c' engine does not support skipfooter; you can avoid this warning by specifying engine='python'.\n",
      "  This is separate from the ipykernel package so we can avoid doing imports until\n",
      "H:\\anaconda3\\envs\\HyperSpy\\lib\\site-packages\\ipykernel_launcher.py:7: ParserWarning: Falling back to the 'python' engine because the 'c' engine does not support skipfooter; you can avoid this warning by specifying engine='python'.\n",
      "  import sys\n",
      "H:\\anaconda3\\envs\\HyperSpy\\lib\\site-packages\\ipykernel_launcher.py:11: ParserWarning: Falling back to the 'python' engine because the 'c' engine does not support skipfooter; you can avoid this warning by specifying engine='python'.\n",
      "  # This is added back by InteractiveShellApp.init_path()\n"
     ]
    }
   ],
   "source": [
    "ROI_M4_list = []\n",
    "for i in np.arange(len(M4_results_list_name)):\n",
    "    ROI_M4_list.append(pd.read_csv(M4_results_directory + M4_results_list_name[i], sep =  '\\s+', skiprows = [0,1,3] , skipfooter = 4))\n",
    "#\n",
    "ROI_M4_full = []\n",
    "for i in np.arange(len(M4_results_full_name)):\n",
    "    ROI_M4_full.append(pd.read_csv(M4_results_directory + M4_results_full_name[i], sep =  '\\s+', skiprows = [0,1,3] , skipfooter = 4))\n",
    "#\n",
    "ROI_M4_rc = []\n",
    "for i in np.arange(len(M4_results_select_name)):\n",
    "    ROI_M4_rc.append(pd.read_csv(M4_results_directory + M4_results_select_name[i], sep =  '\\s+', skiprows = [0,1,3] , skipfooter = 4))\n",
    "\n",
    "    #d1_ROI = pd.read_csv(data_directory + d1_ROI_name, sep = '\\s+', skiprows = [0,1,3] , skipfooter = 4)\n",
    "#d1_map_ROI = pd.read_csv(data_directory + d1_ROI_map_name, sep = '\\s+', skiprows = [0,1,3] , skipfooter = 4)\n"
   ]
  },
  {
   "cell_type": "markdown",
   "metadata": {},
   "source": [
    "* use the elements from M4 results for the HyperSpy evaluation"
   ]
  },
  {
   "cell_type": "code",
   "execution_count": 80,
   "metadata": {},
   "outputs": [
    {
     "data": {
      "text/plain": [
       "['Na', 'Mg', 'Al', 'Si', 'K', 'Ca', 'Ti', 'Fe', 'Sr', 'Zr', 'Rh']"
      ]
     },
     "execution_count": 80,
     "metadata": {},
     "output_type": "execute_result"
    }
   ],
   "source": [
    "elements = []\n",
    "element_set = ROI_M4_list[0].columns.values[1:]\n",
    "elements.append(element_set.tolist())\n",
    "#\n",
    "element_set = ROI_M4_full[0].columns.values[1:]\n",
    "elements.append(element_set.tolist())\n",
    "#\n",
    "element_set = ROI_M4_rc[0].columns.values[1:]\n",
    "elements.append(element_set.tolist())\n",
    "\n",
    "#len(elements)\n",
    "elements[2]"
   ]
  },
  {
   "cell_type": "markdown",
   "metadata": {},
   "source": [
    "* Run Hyperspy over the set of map data - note this will take a while!\n",
    "* only need to run once, if you also save the data (next step)"
   ]
  },
  {
   "cell_type": "code",
   "execution_count": 81,
   "metadata": {
    "scrolled": true
   },
   "outputs": [],
   "source": [
    "# select which directory to run through Hyperspy\n",
    "directory_of_data = 0\n",
    "element_range = 0\n",
    "# run hyperspy\n",
    "#ROI, model = se.spectra_fit(directory[directory_of_data], \"leastsq\", \"ls\", elements[element_range])"
   ]
  },
  {
   "cell_type": "markdown",
   "metadata": {},
   "source": [
    "## Saving ROI_se & model_se\n",
    "* run this to save the HyperSpy data - only need to run once"
   ]
  },
  {
   "cell_type": "code",
   "execution_count": 82,
   "metadata": {},
   "outputs": [],
   "source": [
    "# uses value from last step to specify file_prefix in name\n",
    "#\n",
    "element_ranges = ['COA',\n",
    "                 'select', \n",
    "                 'full']\n",
    "#ROI.to_pickle(file_prefix[directory_of_data] + element_ranges[element_range] + '_roi.pkl')\n",
    "#model.to_pickle(file_prefix[directory_of_data] + element_ranges[element_range] + '_model.pkl')"
   ]
  },
  {
   "cell_type": "markdown",
   "metadata": {},
   "source": [
    "## Reading ROI_se & model_se\n",
    "* use this, if you have already run HyperSpy evaluation over the elements"
   ]
  },
  {
   "cell_type": "code",
   "execution_count": 83,
   "metadata": {},
   "outputs": [],
   "source": [
    "ROI_se_list = []\n",
    "model_se_list = []\n",
    "line_names = []\n",
    "for j in np.arange(len(element_ranges)):\n",
    "    ROI_inner = []\n",
    "    model_inner = []    \n",
    "    for i in np.arange(len(file_prefix)):\n",
    "        ROI = pd.read_pickle(file_prefix[i] + element_ranges[j] +  '_roi.pkl')\n",
    "        model = pd.read_pickle(file_prefix[i] + element_ranges[j] + '_model.pkl')\n",
    "        ROI[ROI.columns[1:].values] = ROI[ROI.columns[1:].values].astype('float64')\n",
    "        ROI_inner.append(ROI)\n",
    "        model_inner.append(model)\n",
    "    ROI_se_list.append(ROI_inner)\n",
    "    model_se_list.append(model_inner)\n",
    "    #line_names_select = model_se[j].columns[1:-1]\n",
    "    #line_names.append(line_names_select)\n",
    "#line_names[0]"
   ]
  },
  {
   "cell_type": "code",
   "execution_count": 84,
   "metadata": {},
   "outputs": [
    {
     "data": {
      "text/plain": [
       "Index(['filename', 'Al_Ka', 'Ca_Ka', 'Fe_Ka', 'K_Ka', 'Mg_Ka', 'Na_Ka',\n",
       "       'Rh_Ka', 'Si_Ka', 'Sr_Ka', 'Ti_Ka', 'Zr_Ka', 'life time in ms'],\n",
       "      dtype='object')"
      ]
     },
     "execution_count": 84,
     "metadata": {},
     "output_type": "execute_result"
    }
   ],
   "source": [
    "ROI_se = ROI_se_list[2]\n",
    "ROI_se[2].columns"
   ]
  },
  {
   "cell_type": "markdown",
   "metadata": {},
   "source": [
    "* some dataframe searches to figure out find & sort"
   ]
  },
  {
   "cell_type": "code",
   "execution_count": 85,
   "metadata": {},
   "outputs": [],
   "source": [
    "#gapminder.loc[(gapminder[\"country\"] == \"Afghanistan\") & (gapminder[\"year\"] == 1952),:]\n",
    "#df[df['A'].str.contains(\"hello\")]\n",
    "#d_1_range = file_sort_df.loc[lambda file_sort_df: file_sort_df['detector'] == 1]"
   ]
  },
  {
   "cell_type": "markdown",
   "metadata": {},
   "source": [
    "* we take our two data frames from HyperSpy results ROI_se [0 = repeat, 1 = maps]\n",
    "* we seperate these by detector [d1 & d2]\n",
    "* we filter data to remove low count time data from the results\n",
    "* we combine the seperated detector results to create a new list of four dfs, ROI_se_select:\n",
    "* [0 = d1, repeat, 1 = d1, maps, 2 = d2, repeat, 3 = d2, maps]\n"
   ]
  },
  {
   "cell_type": "code",
   "execution_count": 100,
   "metadata": {},
   "outputs": [],
   "source": [
    "ROI_se_select = [] # list of 2 (0 = repeat, 1 = maps)\n",
    "#\n",
    "# for each dataframe...\n",
    "# calculate the mean of each dataframe life time in ms\n",
    "# calculate the sqrt of the mean of life time in ms as a poisson noise estimate\n",
    "# use 2 std deivations of the noise (mean - 2* sqrt(mean)) as a cutoff for count times to keep\n",
    "#\n",
    "detector = [0,1]\n",
    "repeat = 0\n",
    "maps = 1\n",
    "detector_files = ['D1', # repeat data from detector 1\n",
    "            'det_1', # map data from detector 1\n",
    "           'D2', # repeat data from detector 2\n",
    "           'det_2'] # map data from detector 3\n",
    "#\n",
    "# This 2 loop will produce a 4 term list of dataframes - 2 for each detector \n",
    "for i in detector:\n",
    "    ###\n",
    "    # D1, D2 cases (from repeats)\n",
    "    # sort out only D1 or D2 from ROI\n",
    "    ROI_select = ROI_se[repeat][ROI_se[repeat]['filename'].str.contains(detector_files[2*i])]\n",
    "    # calculate the cut off for keeping life time in ms terms\n",
    "    life_min = ROI_select['life time in ms'].mean() - 2*np.sqrt(ROI_select['life time in ms'].mean())\n",
    "    # sort only records with life times above poisson cutoff\n",
    "    ROI_select = ROI_select.loc[(ROI_select['life time in ms']) >= life_min]\n",
    "    # add this case to a new 4 term list of dataframes\n",
    "    ROI_se_select.append(ROI_select)\n",
    "    ###\n",
    "    # det_1, det_2 cases (from maps)\n",
    "    # sort out only det_1 or det_2 from ROI\n",
    "    ROI_select = ROI_se[maps][ROI_se[maps]['filename'].str.contains(detector_files[2*i + 1])]\n",
    "    # calculate the cut off for keeping life time in ms terms\n",
    "    life_min = ROI_select['life time in ms'].mean() - 2*np.sqrt(ROI_select['life time in ms'].mean())\n",
    "    # sort only records with life times above poisson cutoff\n",
    "    ROI_select = ROI_select.loc[(ROI_select['life time in ms']) >= life_min]\n",
    "    # add this case to a new 4 term list of dataframes\n",
    "    ROI_se_select.append(ROI_select)\n",
    "ROI_se_select.append(ROI_se[2])"
   ]
  },
  {
   "cell_type": "code",
   "execution_count": 101,
   "metadata": {},
   "outputs": [
    {
     "data": {
      "text/plain": [
       "5"
      ]
     },
     "execution_count": 101,
     "metadata": {},
     "output_type": "execute_result"
    }
   ],
   "source": [
    "len(ROI_se_select)"
   ]
  },
  {
   "cell_type": "markdown",
   "metadata": {},
   "source": [
    "* we use the results of the ROI_se_select count rate sorting to filter the ROI_M4_list\n",
    "* we make a new list with only the correct 'life time in ms rows' included.\n",
    "* this is run over each case (4 times)"
   ]
  },
  {
   "cell_type": "code",
   "execution_count": 104,
   "metadata": {},
   "outputs": [
    {
     "name": "stdout",
     "output_type": "stream",
     "text": [
      "(100, 13) (100, 12)\n",
      "(398, 13) (398, 12)\n",
      "(100, 13) (100, 12)\n",
      "(366, 13) (366, 12)\n"
     ]
    },
    {
     "ename": "IndexError",
     "evalue": "list index out of range",
     "output_type": "error",
     "traceback": [
      "\u001b[1;31m---------------------------------------------------------------------------\u001b[0m",
      "\u001b[1;31mIndexError\u001b[0m                                Traceback (most recent call last)",
      "\u001b[1;32m<ipython-input-104-acbb8481a48a>\u001b[0m in \u001b[0;36m<module>\u001b[1;34m\u001b[0m\n\u001b[0;32m      2\u001b[0m \u001b[1;32mfor\u001b[0m \u001b[0mi\u001b[0m \u001b[1;32min\u001b[0m \u001b[0mnp\u001b[0m\u001b[1;33m.\u001b[0m\u001b[0marange\u001b[0m\u001b[1;33m(\u001b[0m\u001b[0mlen\u001b[0m\u001b[1;33m(\u001b[0m\u001b[0mROI_M4_rc\u001b[0m\u001b[1;33m)\u001b[0m\u001b[1;33m)\u001b[0m\u001b[1;33m:\u001b[0m\u001b[1;33m\u001b[0m\u001b[1;33m\u001b[0m\u001b[0m\n\u001b[0;32m      3\u001b[0m     \u001b[0mROI_se_select\u001b[0m\u001b[1;33m[\u001b[0m\u001b[0mi\u001b[0m\u001b[1;33m]\u001b[0m\u001b[1;33m[\u001b[0m\u001b[1;34m'filename'\u001b[0m\u001b[1;33m]\u001b[0m \u001b[1;33m=\u001b[0m \u001b[0mROI_se_select\u001b[0m\u001b[1;33m[\u001b[0m\u001b[0mi\u001b[0m\u001b[1;33m]\u001b[0m\u001b[1;33m[\u001b[0m\u001b[1;34m'filename'\u001b[0m\u001b[1;33m]\u001b[0m\u001b[1;33m.\u001b[0m\u001b[0mstr\u001b[0m\u001b[1;33m.\u001b[0m\u001b[0mreplace\u001b[0m\u001b[1;33m(\u001b[0m\u001b[1;34m'.spx'\u001b[0m\u001b[1;33m,\u001b[0m \u001b[1;34m''\u001b[0m\u001b[1;33m)\u001b[0m\u001b[1;33m\u001b[0m\u001b[1;33m\u001b[0m\u001b[0m\n\u001b[1;32m----> 4\u001b[1;33m     \u001b[0mROI_M4\u001b[0m \u001b[1;33m=\u001b[0m \u001b[0mROI_M4_list\u001b[0m\u001b[1;33m[\u001b[0m\u001b[0mi\u001b[0m\u001b[1;33m]\u001b[0m\u001b[1;33m.\u001b[0m\u001b[0mwhere\u001b[0m\u001b[1;33m(\u001b[0m\u001b[0mROI_M4_list\u001b[0m\u001b[1;33m[\u001b[0m\u001b[0mi\u001b[0m\u001b[1;33m]\u001b[0m\u001b[1;33m[\u001b[0m\u001b[1;34m'Spectrum'\u001b[0m\u001b[1;33m]\u001b[0m\u001b[1;33m.\u001b[0m\u001b[0misin\u001b[0m\u001b[1;33m(\u001b[0m\u001b[0mROI_se_select\u001b[0m\u001b[1;33m[\u001b[0m\u001b[0mi\u001b[0m\u001b[1;33m]\u001b[0m\u001b[1;33m[\u001b[0m\u001b[1;34m'filename'\u001b[0m\u001b[1;33m]\u001b[0m\u001b[1;33m)\u001b[0m\u001b[1;33m)\u001b[0m\u001b[1;33m.\u001b[0m\u001b[0mdropna\u001b[0m\u001b[1;33m(\u001b[0m\u001b[1;33m)\u001b[0m\u001b[1;33m\u001b[0m\u001b[1;33m\u001b[0m\u001b[0m\n\u001b[0m\u001b[0;32m      5\u001b[0m     \u001b[0mROI_M4_select\u001b[0m\u001b[1;33m.\u001b[0m\u001b[0mappend\u001b[0m\u001b[1;33m(\u001b[0m\u001b[0mROI_M4\u001b[0m\u001b[1;33m)\u001b[0m\u001b[1;33m\u001b[0m\u001b[1;33m\u001b[0m\u001b[0m\n\u001b[0;32m      6\u001b[0m     \u001b[0mprint\u001b[0m\u001b[1;33m(\u001b[0m\u001b[0mROI_se_select\u001b[0m\u001b[1;33m[\u001b[0m\u001b[0mi\u001b[0m\u001b[1;33m]\u001b[0m\u001b[1;33m.\u001b[0m\u001b[0mshape\u001b[0m\u001b[1;33m,\u001b[0m \u001b[0mROI_M4_select\u001b[0m\u001b[1;33m[\u001b[0m\u001b[0mi\u001b[0m\u001b[1;33m]\u001b[0m\u001b[1;33m.\u001b[0m\u001b[0mshape\u001b[0m\u001b[1;33m)\u001b[0m\u001b[1;33m\u001b[0m\u001b[1;33m\u001b[0m\u001b[0m\n",
      "\u001b[1;31mIndexError\u001b[0m: list index out of range"
     ]
    }
   ],
   "source": [
    "ROI_M4_select = [] # list of 4 (0,= d1, repeat, 1 = d1, map, 2 = d2, repeat, 3 = d2,map)\n",
    "for i in np.arange(len(ROI_M4_rc)):\n",
    "    ROI_se_select[i]['filename'] = ROI_se_select[i]['filename'].str.replace('.spx', '')\n",
    "    ROI_M4 = ROI_M4_list[i].where(ROI_M4_list[i]['Spectrum'].isin(ROI_se_select[i]['filename'])).dropna()\n",
    "    ROI_M4_select.append(ROI_M4)\n",
    "    print(ROI_se_select[i].shape, ROI_M4_select[i].shape)\n",
    "    # renaming was not necessary, but it is a good thing to know how to do!!\n",
    "    #M4 = M4.rename(columns={'Spectrum': 'filename'})"
   ]
  },
  {
   "cell_type": "markdown",
   "metadata": {},
   "source": [
    "## Plotting of probplot for both sets\n",
    "* here we run loops to generate probplots for all the cases above."
   ]
  },
  {
   "cell_type": "markdown",
   "metadata": {},
   "source": [
    "* results for se data\n",
    "* run through each of the four sets (j loop)\n",
    "* run over each element in the list (i loop)\n"
   ]
  },
  {
   "cell_type": "code",
   "execution_count": 14,
   "metadata": {},
   "outputs": [],
   "source": [
    "plot_prefix = ['SRM_1831_300s_100pts_300c_',\n",
    "               'SRM_1831_300s_20x20_300c_', \n",
    "              'SRM_1831_300s_100pts_300c_',\n",
    "              'SRM_1831_300s_20x20_300c_',]\n",
    "graph_directory = './graphs/'"
   ]
  },
  {
   "cell_type": "code",
   "execution_count": 15,
   "metadata": {},
   "outputs": [
    {
     "data": {
      "image/png": "[encoded data removed]",
      "text/plain": [
       "<Figure size 432x288 with 1 Axes>"
      ]
     },
     "metadata": {
      "needs_background": "light"
     },
     "output_type": "display_data"
    }
   ],
   "source": [
    "for j in np.arange(len(detector_files)):\n",
    "    for i in np.arange(line_names.shape[0]):\n",
    "        plt.clf()\n",
    "        values = ROI_se_select[j][line_names[i]]\n",
    "        res = sp.stats.probplot(values, plot = plt)\n",
    "        plt.title(file_prefix[0]  + ' ' + detector_files[j]  + ' ' + line_names[i])\n",
    "        plt.savefig( graph_directory + plot_prefix[j] + '_' + detector_files[j] + line_names[i] + '_SE_' + '.png', dpi = 300, transparent = True)"
   ]
  },
  {
   "cell_type": "markdown",
   "metadata": {},
   "source": [
    "* results for M4 data\n",
    "* run through all 4 data sets (j loop)\n",
    "* run through each element (i loop)"
   ]
  },
  {
   "cell_type": "code",
   "execution_count": 16,
   "metadata": {},
   "outputs": [
    {
     "data": {
      "image/png": "[encoded data removed]",
      "text/plain": [
       "<Figure size 432x288 with 1 Axes>"
      ]
     },
     "metadata": {
      "needs_background": "light"
     },
     "output_type": "display_data"
    }
   ],
   "source": [
    "plot_prefix = ['SRM_1831_300s_100pts_300c_',\n",
    "               'SRM_1831_300s_20x20_300c_', \n",
    "              'SRM_1831_300s_100pts_300c_',\n",
    "              'SRM_1831_300s_20x20_300c_',]\n",
    "for j in np.arange(len(detector_files)):\n",
    "    for i in np.arange(len(elements)):\n",
    "        plt.clf()\n",
    "        values = ROI_M4_select[j][elements[i]]\n",
    "        res = sp.stats.probplot(values, plot = plt)\n",
    "        plt.title(file_prefix[0]  + ' ' + detector_files[j]  + ' ' + elements[i])\n",
    "        plt.savefig( graph_directory + plot_prefix[j] + '_' + detector_files[j] + elements[i] + '_M4_'  + '.png', dpi = 300, transparent = True)"
   ]
  },
  {
   "cell_type": "markdown",
   "metadata": {},
   "source": [
    "## Making Statistics dataframes\n",
    "* we start make new dataframes with statistics on these distributions\n"
   ]
  },
  {
   "cell_type": "markdown",
   "metadata": {},
   "source": [
    "* Create a stats dataframe for mean, std, skew, and kurtosis on HyperSpy results"
   ]
  },
  {
   "cell_type": "code",
   "execution_count": 81,
   "metadata": {},
   "outputs": [
    {
     "data": {
      "text/html": [
       "<div>\n",
       "<style scoped>\n",
       "    .dataframe tbody tr th:only-of-type {\n",
       "        vertical-align: middle;\n",
       "    }\n",
       "\n",
       "    .dataframe tbody tr th {\n",
       "        vertical-align: top;\n",
       "    }\n",
       "\n",
       "    .dataframe thead th {\n",
       "        text-align: right;\n",
       "    }\n",
       "</style>\n",
       "<table border=\"1\" class=\"dataframe\">\n",
       "  <thead>\n",
       "    <tr style=\"text-align: right;\">\n",
       "      <th></th>\n",
       "      <th>mean</th>\n",
       "      <th>std</th>\n",
       "      <th>var</th>\n",
       "      <th>skew</th>\n",
       "      <th>kurtosis</th>\n",
       "    </tr>\n",
       "  </thead>\n",
       "  <tbody>\n",
       "    <tr>\n",
       "      <th>Al_Ka</th>\n",
       "      <td>1.591640e+04</td>\n",
       "      <td>217.624015</td>\n",
       "      <td>4.736021e+04</td>\n",
       "      <td>-0.875760</td>\n",
       "      <td>3.342164</td>\n",
       "    </tr>\n",
       "    <tr>\n",
       "      <th>Ca_Ka</th>\n",
       "      <td>1.530194e+06</td>\n",
       "      <td>2452.224024</td>\n",
       "      <td>6.013403e+06</td>\n",
       "      <td>-1.155424</td>\n",
       "      <td>4.986914</td>\n",
       "    </tr>\n",
       "    <tr>\n",
       "      <th>Fe_Ka</th>\n",
       "      <td>1.015901e+05</td>\n",
       "      <td>539.107176</td>\n",
       "      <td>2.906365e+05</td>\n",
       "      <td>0.286411</td>\n",
       "      <td>-0.014781</td>\n",
       "    </tr>\n",
       "    <tr>\n",
       "      <th>K_Ka</th>\n",
       "      <td>3.993975e+04</td>\n",
       "      <td>311.792155</td>\n",
       "      <td>9.721435e+04</td>\n",
       "      <td>0.020707</td>\n",
       "      <td>0.216217</td>\n",
       "    </tr>\n",
       "    <tr>\n",
       "      <th>Mg_Ka</th>\n",
       "      <td>1.094780e+04</td>\n",
       "      <td>175.845773</td>\n",
       "      <td>3.092174e+04</td>\n",
       "      <td>-0.802488</td>\n",
       "      <td>5.168716</td>\n",
       "    </tr>\n",
       "    <tr>\n",
       "      <th>Na_Ka</th>\n",
       "      <td>1.011800e+04</td>\n",
       "      <td>201.068578</td>\n",
       "      <td>4.042857e+04</td>\n",
       "      <td>-0.699440</td>\n",
       "      <td>4.169856</td>\n",
       "    </tr>\n",
       "    <tr>\n",
       "      <th>Rh_Ka</th>\n",
       "      <td>1.141952e+05</td>\n",
       "      <td>896.452215</td>\n",
       "      <td>8.036266e+05</td>\n",
       "      <td>0.129425</td>\n",
       "      <td>0.167851</td>\n",
       "    </tr>\n",
       "    <tr>\n",
       "      <th>S_Ka</th>\n",
       "      <td>1.227725e+04</td>\n",
       "      <td>270.840424</td>\n",
       "      <td>7.335454e+04</td>\n",
       "      <td>7.439922</td>\n",
       "      <td>105.206221</td>\n",
       "    </tr>\n",
       "    <tr>\n",
       "      <th>Si_Ka</th>\n",
       "      <td>1.540991e+06</td>\n",
       "      <td>8082.243606</td>\n",
       "      <td>6.532266e+07</td>\n",
       "      <td>-9.989700</td>\n",
       "      <td>129.417380</td>\n",
       "    </tr>\n",
       "    <tr>\n",
       "      <th>Sr_Ka</th>\n",
       "      <td>3.349729e+04</td>\n",
       "      <td>1063.894423</td>\n",
       "      <td>1.131871e+06</td>\n",
       "      <td>0.402994</td>\n",
       "      <td>0.467547</td>\n",
       "    </tr>\n",
       "    <tr>\n",
       "      <th>Ti_Ka</th>\n",
       "      <td>6.875910e+03</td>\n",
       "      <td>243.514312</td>\n",
       "      <td>5.929922e+04</td>\n",
       "      <td>0.133569</td>\n",
       "      <td>-0.084381</td>\n",
       "    </tr>\n",
       "  </tbody>\n",
       "</table>\n",
       "</div>"
      ],
      "text/plain": [
       "               mean          std           var      skew    kurtosis\n",
       "Al_Ka  1.591640e+04   217.624015  4.736021e+04 -0.875760    3.342164\n",
       "Ca_Ka  1.530194e+06  2452.224024  6.013403e+06 -1.155424    4.986914\n",
       "Fe_Ka  1.015901e+05   539.107176  2.906365e+05  0.286411   -0.014781\n",
       "K_Ka   3.993975e+04   311.792155  9.721435e+04  0.020707    0.216217\n",
       "Mg_Ka  1.094780e+04   175.845773  3.092174e+04 -0.802488    5.168716\n",
       "Na_Ka  1.011800e+04   201.068578  4.042857e+04 -0.699440    4.169856\n",
       "Rh_Ka  1.141952e+05   896.452215  8.036266e+05  0.129425    0.167851\n",
       "S_Ka   1.227725e+04   270.840424  7.335454e+04  7.439922  105.206221\n",
       "Si_Ka  1.540991e+06  8082.243606  6.532266e+07 -9.989700  129.417380\n",
       "Sr_Ka  3.349729e+04  1063.894423  1.131871e+06  0.402994    0.467547\n",
       "Ti_Ka  6.875910e+03   243.514312  5.929922e+04  0.133569   -0.084381"
      ]
     },
     "execution_count": 81,
     "metadata": {},
     "output_type": "execute_result"
    }
   ],
   "source": [
    "ROI_se_stats = []\n",
    "for i in np.arange(len(plot_prefix)):\n",
    "    mean = ROI_se_select[i].mean()\n",
    "    std = ROI_se_select[i].std()\n",
    "    var = ROI_se_select[i].var()\n",
    "    skew = ROI_se_select[i].skew()\n",
    "    kurtosis = ROI_se_select[i].kurtosis()\n",
    "    df = pd.concat([mean, std, var, skew, kurtosis], axis = 1)\n",
    "    df.columns =['mean', 'std', 'var', 'skew', 'kurtosis'] \n",
    "    df = df.drop(index = 'life time in ms')\n",
    "    ROI_se_stats.append(df)\n",
    "ROI_se_stats[1]"
   ]
  },
  {
   "cell_type": "markdown",
   "metadata": {},
   "source": [
    "* create a stats dataframe for mean, std, skew and kurtosis on M4 results"
   ]
  },
  {
   "cell_type": "code",
   "execution_count": 82,
   "metadata": {},
   "outputs": [
    {
     "data": {
      "text/html": [
       "<div>\n",
       "<style scoped>\n",
       "    .dataframe tbody tr th:only-of-type {\n",
       "        vertical-align: middle;\n",
       "    }\n",
       "\n",
       "    .dataframe tbody tr th {\n",
       "        vertical-align: top;\n",
       "    }\n",
       "\n",
       "    .dataframe thead th {\n",
       "        text-align: right;\n",
       "    }\n",
       "</style>\n",
       "<table border=\"1\" class=\"dataframe\">\n",
       "  <thead>\n",
       "    <tr style=\"text-align: right;\">\n",
       "      <th></th>\n",
       "      <th>mean</th>\n",
       "      <th>std</th>\n",
       "      <th>var</th>\n",
       "      <th>skew</th>\n",
       "      <th>kurtosis</th>\n",
       "    </tr>\n",
       "  </thead>\n",
       "  <tbody>\n",
       "    <tr>\n",
       "      <th>Al</th>\n",
       "      <td>1.792512e+04</td>\n",
       "      <td>206.492557</td>\n",
       "      <td>4.263918e+04</td>\n",
       "      <td>-1.539959</td>\n",
       "      <td>8.334973</td>\n",
       "    </tr>\n",
       "    <tr>\n",
       "      <th>Ca</th>\n",
       "      <td>1.521142e+06</td>\n",
       "      <td>2429.208942</td>\n",
       "      <td>5.901056e+06</td>\n",
       "      <td>-1.128130</td>\n",
       "      <td>4.873520</td>\n",
       "    </tr>\n",
       "    <tr>\n",
       "      <th>Fe</th>\n",
       "      <td>9.684660e+04</td>\n",
       "      <td>443.549892</td>\n",
       "      <td>1.967365e+05</td>\n",
       "      <td>0.442064</td>\n",
       "      <td>0.672280</td>\n",
       "    </tr>\n",
       "    <tr>\n",
       "      <th>K</th>\n",
       "      <td>4.073674e+04</td>\n",
       "      <td>234.055954</td>\n",
       "      <td>5.478219e+04</td>\n",
       "      <td>-0.072843</td>\n",
       "      <td>0.461854</td>\n",
       "    </tr>\n",
       "    <tr>\n",
       "      <th>Mg</th>\n",
       "      <td>1.332161e+04</td>\n",
       "      <td>159.163217</td>\n",
       "      <td>2.533293e+04</td>\n",
       "      <td>-2.070596</td>\n",
       "      <td>17.428358</td>\n",
       "    </tr>\n",
       "    <tr>\n",
       "      <th>Na</th>\n",
       "      <td>1.276547e+04</td>\n",
       "      <td>165.314060</td>\n",
       "      <td>2.732874e+04</td>\n",
       "      <td>-2.425377</td>\n",
       "      <td>19.292213</td>\n",
       "    </tr>\n",
       "    <tr>\n",
       "      <th>Rh</th>\n",
       "      <td>1.040951e+05</td>\n",
       "      <td>554.382637</td>\n",
       "      <td>3.073401e+05</td>\n",
       "      <td>0.437189</td>\n",
       "      <td>0.072776</td>\n",
       "    </tr>\n",
       "    <tr>\n",
       "      <th>S</th>\n",
       "      <td>1.202918e+04</td>\n",
       "      <td>260.221780</td>\n",
       "      <td>6.771537e+04</td>\n",
       "      <td>8.161247</td>\n",
       "      <td>119.953654</td>\n",
       "    </tr>\n",
       "    <tr>\n",
       "      <th>Si</th>\n",
       "      <td>1.528875e+06</td>\n",
       "      <td>8018.797253</td>\n",
       "      <td>6.430111e+07</td>\n",
       "      <td>-10.011713</td>\n",
       "      <td>130.011252</td>\n",
       "    </tr>\n",
       "    <tr>\n",
       "      <th>Sr</th>\n",
       "      <td>3.207977e+04</td>\n",
       "      <td>425.543778</td>\n",
       "      <td>1.810875e+05</td>\n",
       "      <td>0.294235</td>\n",
       "      <td>0.222715</td>\n",
       "    </tr>\n",
       "    <tr>\n",
       "      <th>Ti</th>\n",
       "      <td>5.922595e+03</td>\n",
       "      <td>193.564209</td>\n",
       "      <td>3.746710e+04</td>\n",
       "      <td>0.044018</td>\n",
       "      <td>-0.321790</td>\n",
       "    </tr>\n",
       "  </tbody>\n",
       "</table>\n",
       "</div>"
      ],
      "text/plain": [
       "            mean          std           var       skew    kurtosis\n",
       "Al  1.792512e+04   206.492557  4.263918e+04  -1.539959    8.334973\n",
       "Ca  1.521142e+06  2429.208942  5.901056e+06  -1.128130    4.873520\n",
       "Fe  9.684660e+04   443.549892  1.967365e+05   0.442064    0.672280\n",
       "K   4.073674e+04   234.055954  5.478219e+04  -0.072843    0.461854\n",
       "Mg  1.332161e+04   159.163217  2.533293e+04  -2.070596   17.428358\n",
       "Na  1.276547e+04   165.314060  2.732874e+04  -2.425377   19.292213\n",
       "Rh  1.040951e+05   554.382637  3.073401e+05   0.437189    0.072776\n",
       "S   1.202918e+04   260.221780  6.771537e+04   8.161247  119.953654\n",
       "Si  1.528875e+06  8018.797253  6.430111e+07 -10.011713  130.011252\n",
       "Sr  3.207977e+04   425.543778  1.810875e+05   0.294235    0.222715\n",
       "Ti  5.922595e+03   193.564209  3.746710e+04   0.044018   -0.321790"
      ]
     },
     "execution_count": 82,
     "metadata": {},
     "output_type": "execute_result"
    }
   ],
   "source": [
    "ROI_M4_stats = []\n",
    "for i in np.arange(len(plot_prefix)):\n",
    "    mean = ROI_M4_select[i].mean()\n",
    "    std = ROI_M4_select[i].std()\n",
    "    var = ROI_M4_select[i].var()\n",
    "    skew = ROI_M4_select[i].skew()\n",
    "    kurtosis = ROI_M4_select[i].kurtosis()\n",
    "    df = pd.concat([mean, std, var, skew, kurtosis], axis = 1)\n",
    "    df.columns =['mean', 'std', 'var', 'skew', 'kurtosis']\n",
    "    df = df.sort_index(axis = 0)\n",
    "    #df.where(df.index == line_names)\n",
    "    ROI_M4_stats.append(df)\n",
    "ROI_M4_stats[1]"
   ]
  },
  {
   "cell_type": "code",
   "execution_count": 84,
   "metadata": {},
   "outputs": [
    {
     "data": {
      "text/plain": [
       "array(['Al', 'Ca', 'Fe', 'K', 'Mg', 'Na', 'Rh', 'S', 'Si', 'Sr', 'Ti'],\n",
       "      dtype=object)"
      ]
     },
     "execution_count": 84,
     "metadata": {},
     "output_type": "execute_result"
    }
   ],
   "source": [
    "elements = df.index.values\n",
    "elements"
   ]
  },
  {
   "cell_type": "markdown",
   "metadata": {},
   "source": [
    "## PCA calculations on all the data¶"
   ]
  },
  {
   "cell_type": "markdown",
   "metadata": {},
   "source": [
    "* optional - we can remove any of the stats from the PCA analysis\n",
    "* we found that the majority of the information is contained in the:\n",
    "   * var (2nd moment)\n",
    "   * skew (3rd moment)\n",
    "   * kurtosis (4th moment)"
   ]
  },
  {
   "cell_type": "code",
   "execution_count": 83,
   "metadata": {},
   "outputs": [],
   "source": [
    "columns_used = ['var', 'skew', 'kurtosis']\n",
    "columns_used = columns[2:]\n",
    "columns_used"
   ]
  },
  {
   "cell_type": "code",
   "execution_count": 69,
   "metadata": {},
   "outputs": [],
   "source": [
    "for i in np.arange(len(plot_prefix)):\n",
    "    ROI_se_stats[i] = ROI_se_stats[i][columns_used]\n",
    "    ROI_M4_stats[i] = ROI_M4_stats[i][columns_used]\n",
    "    "
   ]
  },
  {
   "cell_type": "markdown",
   "metadata": {},
   "source": [
    "* we now implement PCA and PLSregression for n_components = 2"
   ]
  },
  {
   "cell_type": "code",
   "execution_count": 85,
   "metadata": {},
   "outputs": [],
   "source": [
    "#pls2 = PLSRegression(n_components=2)\n",
    "se_pca = PCA(n_components = 2)\n",
    "M4_pca = PCA(n_components = 2)"
   ]
  },
  {
   "cell_type": "markdown",
   "metadata": {},
   "source": [
    "* This generates scalers which are tuned to the repeat measurments:\n",
    "https://scikit-learn.org/stable/modules/preprocessing.html#preprocessing-scaler"
   ]
  },
  {
   "cell_type": "code",
   "execution_count": 86,
   "metadata": {},
   "outputs": [
    {
     "data": {
      "text/plain": [
       "(StandardScaler(copy=True, with_mean=False, with_std=True),\n",
       " StandardScaler(copy=True, with_mean=False, with_std=True))"
      ]
     },
     "execution_count": 86,
     "metadata": {},
     "output_type": "execute_result"
    }
   ],
   "source": [
    "se_scaler = skl.preprocessing.StandardScaler(with_mean=False).fit(ROI_se_stats[0])\n",
    "M4_scaler = skl.preprocessing.StandardScaler(with_mean=False).fit(ROI_M4_stats[0])\n",
    "se_scaler, M4_scaler"
   ]
  },
  {
   "cell_type": "markdown",
   "metadata": {},
   "source": [
    "* here we scale all 4 sets using the same scaling applied to repeat/detector 1\n",
    "* we make two lists of these scaled results"
   ]
  },
  {
   "cell_type": "code",
   "execution_count": 87,
   "metadata": {},
   "outputs": [],
   "source": [
    "ROI_se_scaled = []\n",
    "ROI_M4_scaled = []\n",
    "for i in np.arange(len(plot_prefix)):\n",
    "    # skl scaling for PCA - se results\n",
    "    #ROI_se = ROI_se_stats[i]\n",
    "    #ROI_se = scale(ROI_se_stats[i])\n",
    "    ROI_se = se_scaler.transform(ROI_se_stats[i])\n",
    "    ROI_se_scaled.append(ROI_se)\n",
    "    # skl scaling for PCA - M4 results\n",
    "    #ROI_M4 = ROI_M4_stats[i]\n",
    "    #ROI_M4 = scale(ROI_M4_stats[i])\n",
    "    ROI_M4 = M4_scaler.transform(ROI_M4_stats[i])\n",
    "    ROI_M4_scaled.append(ROI_M4)"
   ]
  },
  {
   "cell_type": "markdown",
   "metadata": {},
   "source": [
    "* This step fits the data to a PCA regression with n_components = 2\n",
    "* The fit also provides the PC loading components\n",
    "* we are also calculating the variance of the first two PC components"
   ]
  },
  {
   "cell_type": "code",
   "execution_count": 88,
   "metadata": {},
   "outputs": [],
   "source": [
    "# Make a PCA fit from stationary detector 1 data\n",
    "# for se data\n",
    "se_pca = se_pca.fit(ROI_M4_scaled[0])\n",
    "se_pc1_var = 100 * np.round(se_pca.explained_variance_ratio_[0], decimals=3)\n",
    "se_pc2_var = 100 * np.round(se_pca.explained_variance_ratio_[1], decimals=3)\n",
    "# for M4 data\n",
    "M4_pca = M4_pca.fit(ROI_M4_scaled[0])\n",
    "M4_pc2_var = 100 * np.round(M4_pca.explained_variance_ratio_[0], decimals=3)\n",
    "M4_pc2_var = 100 * np.round(M4_pca.explained_variance_ratio_[1], decimals=3)"
   ]
  },
  {
   "cell_type": "markdown",
   "metadata": {},
   "source": [
    "* this step transforms the data\n",
    "* This should give a 2d PCA plot to compare between single point and multi point results"
   ]
  },
  {
   "cell_type": "code",
   "execution_count": 89,
   "metadata": {},
   "outputs": [],
   "source": [
    "se_pca_xforms = []\n",
    "M4_pca_xforms = []\n",
    "for i in np.arange(len(plot_prefix)):\n",
    "    se_pca_xform = se_pca.fit_transform(ROI_se_scaled[i])\n",
    "    se_pca_xforms.append(se_pca_xform)\n",
    "    M4_pca_xform = M4_pca.fit_transform(ROI_M4_scaled[i])\n",
    "    M4_pca_xforms.append(M4_pca_xform)\n",
    "\n",
    "#X_pca_xform_d2 = pca.fit_transform(map_d2)\n",
    "#X_pca_xform_d1_map = pca.fit_transform(map_d1_map)"
   ]
  },
  {
   "cell_type": "markdown",
   "metadata": {},
   "source": [
    "## Plotting PCA results"
   ]
  },
  {
   "cell_type": "markdown",
   "metadata": {},
   "source": [
    "* Provides a PC loading plot"
   ]
  },
  {
   "cell_type": "code",
   "execution_count": 90,
   "metadata": {},
   "outputs": [
    {
     "data": {
      "text/plain": [
       "array(['mean', 'std', 'var', 'skew', 'kurtosis'], dtype=object)"
      ]
     },
     "execution_count": 90,
     "metadata": {},
     "output_type": "execute_result"
    }
   ],
   "source": [
    "columns = ROI_M4_stats[0].columns.values\n",
    "columns"
   ]
  },
  {
   "cell_type": "code",
   "execution_count": 91,
   "metadata": {},
   "outputs": [
    {
     "data": {
      "image/png": "[encoded data removed]",
      "text/plain": [
       "<Figure size 432x288 with 1 Axes>"
      ]
     },
     "metadata": {
      "needs_background": "light"
     },
     "output_type": "display_data"
    }
   ],
   "source": [
    "plt.figure()\n",
    "plt.clf\n",
    "plt.title('PCA components for ' + file_prefix[0])\n",
    "plt.xlabel('Loadings on PC 1')\n",
    "plt.ylabel('Loadings on PC 2')\n",
    "plt.scatter(se_pca.components_[0], se_pca.components_[1], color = 'r', marker = 'd', label = 'HyperSpy')\n",
    "plt.scatter(M4_pca.components_[0], M4_pca.components_[1], color = 'b', marker = 'o', label = 'M4')\n",
    "for i in np.arange(len(columns)):\n",
    "    plt.text(se_pca.components_[0][i], se_pca.components_[1][i], columns[i])\n",
    "plt.legend()\n",
    "plt.savefig(graph_directory + 'PCA_components'  + file_prefix[0] + '.png', dpi=600)"
   ]
  },
  {
   "cell_type": "markdown",
   "metadata": {},
   "source": [
    "* Provides a transform plot into the PCA 2d space"
   ]
  },
  {
   "cell_type": "code",
   "execution_count": 77,
   "metadata": {},
   "outputs": [],
   "source": [
    "scan_ranges = ['100pts_D1', \n",
    "         '20x20_D1', \n",
    "         '100pts_D2',\n",
    "         '20x20_D2']"
   ]
  },
  {
   "cell_type": "code",
   "execution_count": 78,
   "metadata": {},
   "outputs": [
    {
     "data": {
      "image/png": "[encoded data removed]",
      "text/plain": [
       "<Figure size 432x288 with 1 Axes>"
      ]
     },
     "metadata": {
      "needs_background": "light"
     },
     "output_type": "display_data"
    }
   ],
   "source": [
    "#se to M4 comparisons\n",
    "item1 = 0\n",
    "item2 = 0\n",
    "plt.figure()\n",
    "plt.clf\n",
    "#plt.xlim(-5,5)\n",
    "#plt.ylim(-5,5)\n",
    "plt.title('PCA Elements: se - ' + scan_ranges[item1] + ' x M4 - ' + scan_ranges[item2])\n",
    "plt.xlabel('PC 1 (' + str(se_pc1_var) + \"%)\")\n",
    "plt.ylabel('PC 2 (' + str(se_pc2_var) + \"%)\")\n",
    "plt.scatter(se_pca_xforms[item1][:,0], se_pca_xforms[item1][:,1], color = 'r', marker = 'd', label = 'HyperSpy')\n",
    "plt.scatter(M4_pca_xforms[item2][:,0], M4_pca_xforms[item2][:,1], color = 'b', marker = 'o', label = 'M4')\n",
    "for i in np.arange(len(elements)):\n",
    "    plt.text(se_pca_xforms[item1][i][0], se_pca_xforms[item1][i][1], elements[i])\n",
    "    plt.text(M4_pca_xforms[item2][i][0], M4_pca_xforms[item2][i][1], elements[i])\n",
    "plt.legend()\n",
    "plt.savefig(graph_directory + 'PCA_elements_se-M4_' + scan_ranges[item1] + '_x_' + scan_ranges[item2] +  '.png', dpi=600)"
   ]
  },
  {
   "cell_type": "code",
   "execution_count": 92,
   "metadata": {},
   "outputs": [
    {
     "data": {
      "image/png": "[encoded data removed]",
      "text/plain": [
       "<Figure size 432x288 with 1 Axes>"
      ]
     },
     "metadata": {
      "needs_background": "light"
     },
     "output_type": "display_data"
    }
   ],
   "source": [
    "#se to se comparisons\n",
    "item1 = 0\n",
    "item2 = 3\n",
    "plt.figure()\n",
    "plt.title('PCA Elements: se - ' + scan_ranges[item1] + ' x se - ' + scan_ranges[item2])\n",
    "#plt.ylim(-1,1)\n",
    "#plt.xlim(-1,1)\n",
    "plt.xlabel('PC 1 (' + str(se_pc1_var) + \"%)\")\n",
    "plt.ylabel('PC 2 (' + str(se_pc2_var) + \"%)\")\n",
    "plt.scatter(se_pca_xforms[item1][:,0], se_pca_xforms[item1][:,1])\n",
    "plt.scatter(se_pca_xforms[item2][:,0], se_pca_xforms[item2][:,1])\n",
    "for i in np.arange(len(elements)):\n",
    "    plt.text(se_pca_xforms[item1][i][0], se_pca_xforms[item1][i][1], elements[i])\n",
    "    plt.text(se_pca_xforms[item2][i][0], se_pca_xforms[item2][i][1], elements[i])\n",
    "plt.savefig(graph_directory + 'PCA_elements_se-se_' + scan_ranges[item1] + '_x_' + scan_ranges[item2] +   '.png', dpi=600)"
   ]
  },
  {
   "cell_type": "code",
   "execution_count": 56,
   "metadata": {},
   "outputs": [
    {
     "data": {
      "image/png": "[encoded data removed]",
      "text/plain": [
       "<Figure size 432x288 with 1 Axes>"
      ]
     },
     "metadata": {
      "needs_background": "light"
     },
     "output_type": "display_data"
    }
   ],
   "source": [
    "#M4 to M4 comparisons\n",
    "item1 = 0\n",
    "item2 = 3\n",
    "plt.figure()\n",
    "plt.title('PCA Elements: M4 - ' + scan_ranges[item1] + ' x M4 - ' + scan_ranges[item2])\n",
    "#plt.ylim(-1,1)\n",
    "#plt.xlim(-1,1)\n",
    "plt.xlabel('PC 1 (' + str(se_pc1_var) + \"%)\")\n",
    "plt.ylabel('PC 2 (' + str(se_pc2_var) + \"%)\")\n",
    "plt.scatter(M4_pca_xforms[item1][:,0], M4_pca_xforms[item1][:,1])\n",
    "plt.scatter(M4_pca_xforms[item2][:,0], M4_pca_xforms[item2][:,1])\n",
    "for i in np.arange(len(elements)):\n",
    "    plt.text(M4_pca_xforms[item1][i][0], M4_pca_xforms[item1][i][1], elements[i])\n",
    "    plt.text(M4_pca_xforms[item2][i][0], M4_pca_xforms[item2][i][1], elements[i])\n",
    "plt.savefig(graph_directory + 'PCA_elements_M4-M4_' + scan_ranges[item1] + '_x_' + scan_ranges[item2] +   '.png', dpi=600)"
   ]
  },
  {
   "cell_type": "markdown",
   "metadata": {},
   "source": [
    "## End of discussion"
   ]
  },
  {
   "cell_type": "markdown",
   "metadata": {},
   "source": [
    "[![Binder](https://mybinder.org/badge_logo.svg)](https://mybinder.org/v2/gh/windover/SRM_1831_PCA_analysis.git/master)"
   ]
  }
 ],
 "metadata": {
  "kernelspec": {
   "display_name": "Python 3",
   "language": "python",
   "name": "python3"
  },
  "language_info": {
   "codemirror_mode": {
    "name": "ipython",
    "version": 3
   },
   "file_extension": ".py",
   "mimetype": "text/x-python",
   "name": "python",
   "nbconvert_exporter": "python",
   "pygments_lexer": "ipython3",
   "version": "3.7.4"
  },
  "toc": {
   "base_numbering": 1,
   "nav_menu": {},
   "number_sections": true,
   "sideBar": true,
   "skip_h1_title": false,
   "title_cell": "Table of Contents",
   "title_sidebar": "Contents",
   "toc_cell": false,
   "toc_position": {},
   "toc_section_display": true,
   "toc_window_display": false
  },
  "varInspector": {
   "cols": {
    "lenName": 16,
    "lenType": 16,
    "lenVar": 40
   },
   "kernels_config": {
    "python": {
     "delete_cmd_postfix": "",
     "delete_cmd_prefix": "del ",
     "library": "var_list.py",
     "varRefreshCmd": "print(var_dic_list())"
    },
    "r": {
     "delete_cmd_postfix": ") ",
     "delete_cmd_prefix": "rm(",
     "library": "var_list.r",
     "varRefreshCmd": "cat(var_dic_list()) "
    }
   },
   "types_to_exclude": [
    "module",
    "function",
    "builtin_function_or_method",
    "instance",
    "_Feature"
   ],
   "window_display": false
  }
 },
 "nbformat": 4,
 "nbformat_minor": 4
}
